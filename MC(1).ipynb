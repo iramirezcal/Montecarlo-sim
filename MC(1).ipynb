{
 "cells": [
  {
   "cell_type": "code",
   "execution_count": 29,
   "metadata": {},
   "outputs": [],
   "source": [
    "import numpy as np\n",
    "from astropy.io import ascii\n",
    "import matplotlib.pyplot as plt"
   ]
  },
  {
   "cell_type": "code",
   "execution_count": 39,
   "metadata": {},
   "outputs": [
    {
     "data": {
      "text/plain": [
       "Text(0.5, 1.0, 'IMF')"
      ]
     },
     "execution_count": 39,
     "metadata": {},
     "output_type": "execute_result"
    },
    {
     "data": {
      "image/png": "[encoded data removed]",
      "text/plain": [
       "<Figure size 432x288 with 1 Axes>"
      ]
     },
     "metadata": {
      "needs_background": "light"
     },
     "output_type": "display_data"
    }
   ],
   "source": [
    "numeros_aleatorios = np.random.uniform(0.08, 100, 1000000)\n",
    "masas=np.random.shuffle(numeros_aleatorios)\n",
    "\n",
    "#IMF\n",
    "a1=-1.3\n",
    "a2=-2.3\n",
    "grupo1=[]\n",
    "grupo2=[]\n",
    "\n",
    "grupo1 = [i for i in numeros_aleatorios if i < 0.5]\n",
    "grupo2 = [i for i in numeros_aleatorios if i >= 0.5]\n",
    "grupo_masas=grupo1+grupo2\n",
    "\n",
    "y1=[i**a1 for i in grupo1]\n",
    "y2=[i**a2 for i in grupo2]\n",
    "\n",
    "log_m1=[np.log(i*10) for i in grupo1]\n",
    "log_m2=[np.log(i*10) for i in grupo2]\n",
    "\n",
    "epsilon_L1 = [x * y for x, y in zip(log_m1, y1)]\n",
    "epsilon_L2 = [x * y for x, y in zip(log_m2, y2)]\n",
    "\n",
    "plt.scatter(grupo1, epsilon_L1, color='purple', s=0.5)\n",
    "plt.scatter(grupo2, epsilon_L2, color='orange', s=0.5)\n",
    "plt.yscale('log')\n",
    "plt.xscale('log')\n",
    "\n",
    "plt.xlabel('Masa (log)')\n",
    "plt.ylabel('Epsilon * L (log)')\n",
    "plt.title('IMF')"
   ]
  },
  {
   "cell_type": "code",
   "execution_count": 31,
   "metadata": {},
   "outputs": [
    {
     "data": {
      "text/plain": [
       "Text(0, 0.5, 'Cantidad')"
      ]
     },
     "execution_count": 31,
     "metadata": {},
     "output_type": "execute_result"
    },
    {
     "data": {
      "image/png": "[encoded data removed]",
      "text/plain": [
       "<Figure size 432x288 with 1 Axes>"
      ]
     },
     "metadata": {
      "needs_background": "light"
     },
     "output_type": "display_data"
    }
   ],
   "source": [
    "#PARTE 2\n",
    "time_birth=np.random.uniform(0,10,1000000)\n",
    "\n",
    "counts,bins,_ =plt.hist(time_birth, bins=10000, density=True)\n",
    "plt.title('SFR')\n",
    "plt.xlabel('Tiempo de nacimiento')\n",
    "plt.ylabel('Cantidad')"
   ]
  },
  {
   "cell_type": "code",
   "execution_count": 32,
   "metadata": {},
   "outputs": [],
   "source": [
    "#PARTE 3\n",
    "#LT MS\n",
    "#1Gyr=1e9\n",
    "\n",
    "stillMS=[]\n",
    "outMS=[]\n",
    "wdwarf=[]\n",
    "neutron_star1=[]\n",
    "neutron_star2=[]\n",
    "neutron_star3=[]\n",
    "neutron_star4=[]\n",
    "neutron_star5=[]\n",
    "bh1=[]\n",
    "bh2=[]\n",
    "timeMS=[]\n",
    "timeoutMS=[]\n",
    "timeNS=[]\n",
    "timeWD=[]\n",
    "timeBH=[]\n",
    "\n",
    "lifetime_MS=[((10**10)/(i**(2.5))) for i in grupo_masas]\n",
    "MS_gyr=[i*(1e-9) for i in lifetime_MS]\n",
    "\n",
    "for i in range(len(MS_gyr)):\n",
    "    if MS_gyr[i] <= time_birth[i]:\n",
    "        stillMS.append(grupo_masas[i])\n",
    "        timeMS.append(time_birth[i])\n",
    "    else:\n",
    "        outMS.append(grupo_masas[i])\n",
    "        timeoutMS.append(time_birth[i])\n",
    "\n",
    "for i in range(len(outMS)):\n",
    "    if outMS[i]<=6.5:\n",
    "        wdwarf.append(outMS[i])\n",
    "        timeWD.append(timeoutMS[i])\n",
    "    elif 9<=outMS[i]<=13:\n",
    "        neutron_star1.append(outMS[i])\n",
    "        timeNS.append(timeoutMS[i])\n",
    "    elif 13<outMS[i]<15:\n",
    "        neutron_star2.append(outMS[i])\n",
    "        timeNS.append(timeoutMS[i])\n",
    "    elif 15<=outMS[i]<17.8:\n",
    "        neutron_star3.append(outMS[i])\n",
    "        timeNS.append(timeoutMS[i])    \n",
    "    elif 17.8<=outMS[i]<18.5:\n",
    "        neutron_star4.append(outMS[i])\n",
    "        timeNS.append(timeoutMS[i])\n",
    "    elif 18.5<=outMS[i]<45:\n",
    "        bh1.append(outMS[i])\n",
    "        timeBH.append(timeoutMS[i])\n",
    "    elif 45<=outMS[i]:\n",
    "        bh2.append(outMS[i])\n",
    "        timeBH.append(outMS[i])"
   ]
  },
  {
   "cell_type": "code",
   "execution_count": 38,
   "metadata": {},
   "outputs": [
    {
     "data": {
      "text/plain": [
       "Text(0, 0.5, 'Frecuencia')"
      ]
     },
     "execution_count": 38,
     "metadata": {},
     "output_type": "execute_result"
    },
    {
     "data": {
      "image/png": "[encoded data removed]",
      "text/plain": [
       "<Figure size 432x288 with 1 Axes>"
      ]
     },
     "metadata": {
      "needs_background": "light"
     },
     "output_type": "display_data"
    }
   ],
   "source": [
    "plt.hist(timeMS, bins=1000, label='MS', color='purple', alpha=.5, range=(0,10), density=True)\n",
    "plt.hist(timeNS, bins=1000, label='NS', color='orange', alpha=1, range=(0,10), density=True)\n",
    "plt.hist(timeWD, bins=1000, label='WD', color='pink', alpha=.5, range=(0,10), density=True)\n",
    "plt.hist(timeBH, bins=1000, label='BH', color='black', alpha=.5, range=(0,10), density=True)\n",
    "plt.yscale('log')\n",
    "plt.xlim(0,0.2)\n",
    "plt.xlabel('Edad componentes estelares[Gyr]')\n",
    "plt.ylabel('Frecuencia')"
   ]
  },
  {
   "cell_type": "code",
   "execution_count": 34,
   "metadata": {},
   "outputs": [],
   "source": [
    "#IFMR\n",
    "#WD\n",
    "Mbhc1= [-2.049+(0.414*i) for i in bh1]\n",
    "Mbha1= [15.52-0.3294*(i-25.97)-0.02121*(i-25.97)**2+0.00312*(i-25.97)**3 for i in bh1]\n",
    "Mfinal_bh1= [(0.9*i)+(1-0.9)*j for i,j in zip(Mbhc1, Mbha1)]\n",
    "Mfinal_bh2= [5.697+(7.8598*10**8*i**(-4.858)) for i in bh2]\n",
    "Mfinal_wd=[(0.109*i)+0.394 for i in wdwarf]\n",
    "Mfinal_ns1=[2.24+(0.508*(i-14.75))+(0.125*(i-14.75)**2)+(0.011*(i-14.75)**3) for i in neutron_star1]\n",
    "Mfinal_ns2=[0.123+(0.112*i) for i in neutron_star2]\n",
    "Mfinal_ns3=[0.996+(0.0384*i) for i in neutron_star3]\n",
    "Mfinal_ns4=[-0.02+(0.1*i) for i in neutron_star4]"
   ]
  },
  {
   "cell_type": "code",
   "execution_count": 35,
   "metadata": {},
   "outputs": [
    {
     "data": {
      "image/png": "[encoded data removed]",
      "text/plain": [
       "<Figure size 432x288 with 1 Axes>"
      ]
     },
     "metadata": {
      "needs_background": "light"
     },
     "output_type": "display_data"
    }
   ],
   "source": [
    "plt.hist([Mfinal_bh1,Mfinal_bh2], bins=10, density=True, label='BH', color=['black', 'black'])\n",
    "plt.hist(Mfinal_wd, bins=100, density=True, label='WD', color='pink')\n",
    "plt.hist([Mfinal_ns1,Mfinal_ns2,Mfinal_ns3, Mfinal_ns4], bins=10, density=True, label='NS', color=['blue','blue','blue','blue'], alpha=1)\n",
    "plt.hist(stillMS, bins=100, density=True, label='MS', color='purple', alpha=0.2)\n",
    "#plt.xlim(0,16.5)\n",
    "plt.xlabel('Masa')\n",
    "plt.yscale('log')\n",
    "plt.ylabel('Frecuencia')\n",
    "plt.xlim(0,20)\n",
    "plt.legend()\n",
    "plt.show()"
   ]
  },
  {
   "cell_type": "code",
   "execution_count": 36,
   "metadata": {},
   "outputs": [
    {
     "name": "stdout",
     "output_type": "stream",
     "text": [
      "razón de WD: 0.015355\n",
      "razón de MS: 0.984287\n",
      "razón de BH: 6.7e-05\n",
      "razón de NS: 0.000146\n",
      "0.999855\n"
     ]
    }
   ],
   "source": [
    "print('razón de WD:', len(wdwarf)/len(grupo_masas))\n",
    "print('razón de MS:', len(stillMS)/len(grupo_masas))\n",
    "print('razón de BH:', len(timeBH)/len(grupo_masas))\n",
    "print('razón de NS:', len(timeNS)/len(grupo_masas))\n",
    "print((len(wdwarf)/len(grupo_masas))+(len(stillMS)/len(grupo_masas))+(len(timeBH)/len(grupo_masas))+(len(timeNS)/len(grupo_masas)))"
   ]
  },
  {
   "cell_type": "code",
   "execution_count": null,
   "metadata": {},
   "outputs": [],
   "source": []
  }
 ],
 "metadata": {
  "kernelspec": {
   "display_name": "Python 3 (ipykernel)",
   "language": "python",
   "name": "python3"
  },
  "language_info": {
   "codemirror_mode": {
    "name": "ipython",
    "version": 3
   },
   "file_extension": ".py",
   "mimetype": "text/x-python",
   "name": "python",
   "nbconvert_exporter": "python",
   "pygments_lexer": "ipython3",
   "version": "3.10.12"
  }
 },
 "nbformat": 4,
 "nbformat_minor": 4
}
